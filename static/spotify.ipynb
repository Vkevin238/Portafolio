{
 "cells": [
  {
   "cell_type": "code",
   "execution_count": 1,
   "metadata": {},
   "outputs": [
    {
     "ename": "ProgrammingError",
     "evalue": "Could not process parameters: zip(<zip object at 0x0000020F60A0D180>), it must be of type list, tuple or dict",
     "output_type": "error",
     "traceback": [
      "\u001b[1;31m---------------------------------------------------------------------------\u001b[0m",
      "\u001b[1;31mProgrammingError\u001b[0m                          Traceback (most recent call last)",
      "Cell \u001b[1;32mIn[1], line 68\u001b[0m\n\u001b[0;32m     66\u001b[0m     sql \u001b[38;5;241m=\u001b[39m \u001b[38;5;124m\"\u001b[39m\u001b[38;5;124mINSERT INTO artistas (Artista, Genero, id_Artist, Canciones_populares, Album) VALUES (\u001b[39m\u001b[38;5;132;01m%s\u001b[39;00m\u001b[38;5;124m, \u001b[39m\u001b[38;5;132;01m%s\u001b[39;00m\u001b[38;5;124m, \u001b[39m\u001b[38;5;132;01m%s\u001b[39;00m\u001b[38;5;124m, \u001b[39m\u001b[38;5;132;01m%s\u001b[39;00m\u001b[38;5;124m, \u001b[39m\u001b[38;5;132;01m%s\u001b[39;00m\u001b[38;5;124m)\u001b[39m\u001b[38;5;124m\"\u001b[39m\n\u001b[0;32m     67\u001b[0m     valores \u001b[38;5;241m=\u001b[39m data[\u001b[38;5;124m'\u001b[39m\u001b[38;5;124mArtista\u001b[39m\u001b[38;5;124m'\u001b[39m]\u001b[38;5;241m.\u001b[39mitems()\n\u001b[1;32m---> 68\u001b[0m     \u001b[43mcursor\u001b[49m\u001b[38;5;241;43m.\u001b[39;49m\u001b[43mexecute\u001b[49m\u001b[43m(\u001b[49m\u001b[43msql\u001b[49m\u001b[43m,\u001b[49m\u001b[43m \u001b[49m\u001b[43m(\u001b[49m\u001b[43mvalores\u001b[49m\u001b[43m)\u001b[49m\u001b[43m)\u001b[49m\n\u001b[0;32m     70\u001b[0m \u001b[38;5;66;03m# Realiza commit para confirmar los cambios en la base de datos\u001b[39;00m\n\u001b[0;32m     71\u001b[0m conexion\u001b[38;5;241m.\u001b[39mcommit()\n",
      "File \u001b[1;32mc:\\Users\\vfabi\\AppData\\Local\\Programs\\Python\\Python312\\Lib\\site-packages\\mysql\\connector\\cursor_cext.py:361\u001b[0m, in \u001b[0;36mCMySQLCursor.execute\u001b[1;34m(self, operation, params, multi)\u001b[0m\n\u001b[0;32m    358\u001b[0m     \u001b[38;5;28;01mraise\u001b[39;00m ProgrammingError(\u001b[38;5;28mstr\u001b[39m(err)) \u001b[38;5;28;01mfrom\u001b[39;00m \u001b[38;5;21;01merr\u001b[39;00m\n\u001b[0;32m    360\u001b[0m \u001b[38;5;28;01mif\u001b[39;00m params:\n\u001b[1;32m--> 361\u001b[0m     prepared \u001b[38;5;241m=\u001b[39m \u001b[38;5;28;43mself\u001b[39;49m\u001b[38;5;241;43m.\u001b[39;49m\u001b[43m_cnx\u001b[49m\u001b[38;5;241;43m.\u001b[39;49m\u001b[43mprepare_for_mysql\u001b[49m\u001b[43m(\u001b[49m\u001b[43mparams\u001b[49m\u001b[43m)\u001b[49m\n\u001b[0;32m    362\u001b[0m     \u001b[38;5;28;01mif\u001b[39;00m \u001b[38;5;28misinstance\u001b[39m(prepared, \u001b[38;5;28mdict\u001b[39m):\n\u001b[0;32m    363\u001b[0m         \u001b[38;5;28;01mfor\u001b[39;00m key, value \u001b[38;5;129;01min\u001b[39;00m prepared\u001b[38;5;241m.\u001b[39mitems():\n",
      "File \u001b[1;32mc:\\Users\\vfabi\\AppData\\Local\\Programs\\Python\\Python312\\Lib\\site-packages\\mysql\\connector\\connection_cext.py:844\u001b[0m, in \u001b[0;36mCMySQLConnection.prepare_for_mysql\u001b[1;34m(self, params)\u001b[0m\n\u001b[0;32m    842\u001b[0m             result[key] \u001b[38;5;241m=\u001b[39m \u001b[38;5;28mself\u001b[39m\u001b[38;5;241m.\u001b[39m_cmysql\u001b[38;5;241m.\u001b[39mconvert_to_mysql(value)[\u001b[38;5;241m0\u001b[39m]\n\u001b[0;32m    843\u001b[0m \u001b[38;5;28;01melse\u001b[39;00m:\n\u001b[1;32m--> 844\u001b[0m     \u001b[38;5;28;01mraise\u001b[39;00m ProgrammingError(\n\u001b[0;32m    845\u001b[0m         \u001b[38;5;124mf\u001b[39m\u001b[38;5;124m\"\u001b[39m\u001b[38;5;124mCould not process parameters: \u001b[39m\u001b[38;5;132;01m{\u001b[39;00m\u001b[38;5;28mtype\u001b[39m(params)\u001b[38;5;241m.\u001b[39m\u001b[38;5;18m__name__\u001b[39m\u001b[38;5;132;01m}\u001b[39;00m\u001b[38;5;124m(\u001b[39m\u001b[38;5;132;01m{\u001b[39;00mparams\u001b[38;5;132;01m}\u001b[39;00m\u001b[38;5;124m),\u001b[39m\u001b[38;5;124m\"\u001b[39m\n\u001b[0;32m    846\u001b[0m         \u001b[38;5;124m\"\u001b[39m\u001b[38;5;124m it must be of type list, tuple or dict\u001b[39m\u001b[38;5;124m\"\u001b[39m\n\u001b[0;32m    847\u001b[0m     )\n\u001b[0;32m    849\u001b[0m \u001b[38;5;28;01mreturn\u001b[39;00m result\n",
      "\u001b[1;31mProgrammingError\u001b[0m: Could not process parameters: zip(<zip object at 0x0000020F60A0D180>), it must be of type list, tuple or dict"
     ]
    }
   ],
   "source": [
    "import spotipy\n",
    "from spotipy.oauth2 import SpotifyClientCredentials\n",
    "import pandas as pd\n",
    "\n",
    "# Coloca tus credenciales aquí\n",
    "client_id = 'ac7b13c0f3f849e4ac5a267cf2553c7d'\n",
    "client_secret = '9e84336c7bf2487ebfc9456b8d237d09'\n",
    "\n",
    "# Configura la autenticación\n",
    "auth_manager = SpotifyClientCredentials(client_id=client_id, client_secret=client_secret)\n",
    "sp = spotipy.Spotify(auth_manager=auth_manager)\n",
    "results = sp.search(q='Penyair', type='artist')\n",
    "artist_id = results['artists']['items'][0]['id']   \n",
    "top_tracks = sp.artist_top_tracks(artist_id)\n",
    "                                      \n",
    "music = []\n",
    "album = []\n",
    "# Ahora puedes hacer llamadas a la API de Spotify usando 'sp'\n",
    "for track in top_tracks['tracks']:\n",
    "    music.append(track['name'])\n",
    "\n",
    "for track in top_tracks['tracks']:\n",
    "    album.append(track['album']['name'])\n",
    "artista = results['artists']['items'][0]['name']                                    \n",
    "artista_l = []   \n",
    "genero_l = []\n",
    "id = []\n",
    "\n",
    "artista = results['artists']['items'][0]['name']       \n",
    "genero = results['artists']['items'][0]['genres']  \n",
    "       \n",
    "for v in music:\n",
    "        artista_l.append(artista)\n",
    "for v in music:\n",
    "        genero_l.append(genero[0])\n",
    "\n",
    "for v in music:\n",
    "        id.append(artist_id)\n",
    "\n",
    "artist_id = results['artists']['items'][0]['id']\n",
    "datos = {'Artista':artista_l, 'Genero': genero_l, 'id_Artist':id, 'Canciones populares': music, 'Album':album}\n",
    "\n",
    "data =pd.DataFrame(datos)\n",
    "\n",
    "\n",
    "import pandas as pd\n",
    "import mysql.connector\n",
    "\n",
    "# Configura la conexión a la base de datos\n",
    "conexion = mysql.connector.connect(\n",
    "    host='localhost',\n",
    "    user='root',\n",
    "    password='2002',\n",
    "    database='datos'\n",
    ")\n",
    "\n",
    "\n",
    "# Crea un cursor para ejecutar comandos SQL\n",
    "cursor = conexion.cursor()\n",
    "\n",
    "# Itera sobre las filas del DataFrame e inserta los datos en la base de datos\n",
    "for index, fila in data.iterrows():\n",
    "    sql = \"INSERT INTO artistas (Artista, Genero, id_Artist, Canciones_populares, Album) VALUES (%s, %s, %s, %s, %s)\"\n",
    "    valores = data['Artista'].items()\n",
    "    cursor.execute(sql, (valores))\n",
    "\n",
    "# Realiza commit para confirmar los cambios en la base de datos\n",
    "conexion.commit()\n",
    "\n",
    "# Cierra el cursor y la conexión\n",
    "cursor.close()\n",
    "conexion.close()\n"
   ]
  }
 ],
 "metadata": {
  "kernelspec": {
   "display_name": "Python 3",
   "language": "python",
   "name": "python3"
  },
  "language_info": {
   "codemirror_mode": {
    "name": "ipython",
    "version": 3
   },
   "file_extension": ".py",
   "mimetype": "text/x-python",
   "name": "python",
   "nbconvert_exporter": "python",
   "pygments_lexer": "ipython3",
   "version": "3.12.1"
  }
 },
 "nbformat": 4,
 "nbformat_minor": 2
}
